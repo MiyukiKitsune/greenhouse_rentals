{
 "cells": [
  {
   "cell_type": "code",
   "execution_count": 1,
   "metadata": {},
   "outputs": [],
   "source": [
    "# Essentials\n",
    "import numpy as np\n",
    "import math\n",
    "import pandas as pd\n",
    "import datetime\n",
    "import random\n",
    "from datetime import datetime\n",
    "# Plots\n",
    "import seaborn as sns\n",
    "import matplotlib.pyplot as plt\n",
    "\n",
    "# Models\n",
    "from sklearn.ensemble import RandomForestRegressor, GradientBoostingRegressor, AdaBoostRegressor, BaggingRegressor\n",
    "from sklearn.kernel_ridge import KernelRidge\n",
    "from sklearn.linear_model import Ridge, RidgeCV\n",
    "from sklearn.linear_model import ElasticNet, ElasticNetCV\n",
    "from sklearn.svm import SVR\n",
    "from mlxtend.regressor import StackingCVRegressor\n",
    "import lightgbm as lgb\n",
    "from lightgbm import LGBMRegressor\n",
    "from xgboost import XGBRegressor\n",
    "\n",
    "# Stats\n",
    "from scipy import stats\n",
    "from scipy.stats import skew, norm\n",
    "from scipy.special import boxcox1p\n",
    "from scipy.stats import boxcox_normmax\n",
    "\n",
    "# Misc\n",
    "from sklearn.model_selection import GridSearchCV\n",
    "from sklearn.model_selection import KFold, cross_val_score, train_test_split\n",
    "from sklearn.metrics import mean_squared_error, r2_score, mean_absolute_error\n",
    "from sklearn.preprocessing import OneHotEncoder\n",
    "from sklearn.preprocessing import LabelEncoder\n",
    "from sklearn.pipeline import make_pipeline\n",
    "from sklearn.preprocessing import scale\n",
    "from sklearn.preprocessing import StandardScaler\n",
    "from sklearn.preprocessing import RobustScaler\n",
    "from sklearn.decomposition import PCA\n",
    "\n",
    "import pickle\n",
    "\n",
    "# Ignore useless warnings\n",
    "import warnings\n",
    "warnings.filterwarnings(\"ignore\", category=FutureWarning)\n",
    "warnings.filterwarnings(\"ignore\", category=DeprecationWarning)\n",
    "warnings.filterwarnings(\"ignore\", category=RuntimeWarning)"
   ]
  },
  {
   "cell_type": "code",
   "execution_count": 2,
   "metadata": {},
   "outputs": [],
   "source": [
    "df_bikes = pd.read_csv('C:\\\\Users\\\\Charne\\\\Documents\\\\greenhouse_rentals\\\\static\\\\SeoulBikeData_cleaned.csv', encoding= 'unicode_escape')"
   ]
  },
  {
   "cell_type": "code",
   "execution_count": 3,
   "metadata": {},
   "outputs": [
    {
     "data": {
      "text/html": [
       "<div>\n",
       "<style scoped>\n",
       "    .dataframe tbody tr th:only-of-type {\n",
       "        vertical-align: middle;\n",
       "    }\n",
       "\n",
       "    .dataframe tbody tr th {\n",
       "        vertical-align: top;\n",
       "    }\n",
       "\n",
       "    .dataframe thead th {\n",
       "        text-align: right;\n",
       "    }\n",
       "</style>\n",
       "<table border=\"1\" class=\"dataframe\">\n",
       "  <thead>\n",
       "    <tr style=\"text-align: right;\">\n",
       "      <th></th>\n",
       "      <th>Date</th>\n",
       "      <th>Rented Bike Count</th>\n",
       "      <th>Hour</th>\n",
       "      <th>Temperature(°C)</th>\n",
       "      <th>Humidity(%)</th>\n",
       "      <th>Wind speed (m/s)</th>\n",
       "      <th>Visibility (10m)</th>\n",
       "      <th>Dew point temperature(°C)</th>\n",
       "      <th>Solar Radiation (MJ/m2)</th>\n",
       "      <th>Rainfall(mm)</th>\n",
       "      <th>Snowfall (cm)</th>\n",
       "      <th>Seasons</th>\n",
       "      <th>Year</th>\n",
       "      <th>Month</th>\n",
       "      <th>Day</th>\n",
       "      <th>DOW</th>\n",
       "      <th>isWeekend</th>\n",
       "      <th>isHoliday</th>\n",
       "      <th>isFunctioningDay</th>\n",
       "      <th>RentedBikes_Log</th>\n",
       "    </tr>\n",
       "  </thead>\n",
       "  <tbody>\n",
       "    <tr>\n",
       "      <th>0</th>\n",
       "      <td>2017-01-12</td>\n",
       "      <td>254</td>\n",
       "      <td>0</td>\n",
       "      <td>-5.2</td>\n",
       "      <td>37</td>\n",
       "      <td>2.2</td>\n",
       "      <td>2000</td>\n",
       "      <td>-17.6</td>\n",
       "      <td>0.0</td>\n",
       "      <td>0.0</td>\n",
       "      <td>0.0</td>\n",
       "      <td>Winter</td>\n",
       "      <td>2017</td>\n",
       "      <td>1</td>\n",
       "      <td>12</td>\n",
       "      <td>3</td>\n",
       "      <td>0</td>\n",
       "      <td>0</td>\n",
       "      <td>1</td>\n",
       "      <td>5.541264</td>\n",
       "    </tr>\n",
       "    <tr>\n",
       "      <th>1</th>\n",
       "      <td>2017-01-12</td>\n",
       "      <td>204</td>\n",
       "      <td>1</td>\n",
       "      <td>-5.5</td>\n",
       "      <td>38</td>\n",
       "      <td>0.8</td>\n",
       "      <td>2000</td>\n",
       "      <td>-17.6</td>\n",
       "      <td>0.0</td>\n",
       "      <td>0.0</td>\n",
       "      <td>0.0</td>\n",
       "      <td>Winter</td>\n",
       "      <td>2017</td>\n",
       "      <td>1</td>\n",
       "      <td>12</td>\n",
       "      <td>3</td>\n",
       "      <td>0</td>\n",
       "      <td>0</td>\n",
       "      <td>1</td>\n",
       "      <td>5.323010</td>\n",
       "    </tr>\n",
       "    <tr>\n",
       "      <th>2</th>\n",
       "      <td>2017-01-12</td>\n",
       "      <td>173</td>\n",
       "      <td>2</td>\n",
       "      <td>-6.0</td>\n",
       "      <td>39</td>\n",
       "      <td>1.0</td>\n",
       "      <td>2000</td>\n",
       "      <td>-17.7</td>\n",
       "      <td>0.0</td>\n",
       "      <td>0.0</td>\n",
       "      <td>0.0</td>\n",
       "      <td>Winter</td>\n",
       "      <td>2017</td>\n",
       "      <td>1</td>\n",
       "      <td>12</td>\n",
       "      <td>3</td>\n",
       "      <td>0</td>\n",
       "      <td>0</td>\n",
       "      <td>1</td>\n",
       "      <td>5.159055</td>\n",
       "    </tr>\n",
       "    <tr>\n",
       "      <th>3</th>\n",
       "      <td>2017-01-12</td>\n",
       "      <td>107</td>\n",
       "      <td>3</td>\n",
       "      <td>-6.2</td>\n",
       "      <td>40</td>\n",
       "      <td>0.9</td>\n",
       "      <td>2000</td>\n",
       "      <td>-17.6</td>\n",
       "      <td>0.0</td>\n",
       "      <td>0.0</td>\n",
       "      <td>0.0</td>\n",
       "      <td>Winter</td>\n",
       "      <td>2017</td>\n",
       "      <td>1</td>\n",
       "      <td>12</td>\n",
       "      <td>3</td>\n",
       "      <td>0</td>\n",
       "      <td>0</td>\n",
       "      <td>1</td>\n",
       "      <td>4.682131</td>\n",
       "    </tr>\n",
       "    <tr>\n",
       "      <th>4</th>\n",
       "      <td>2017-01-12</td>\n",
       "      <td>78</td>\n",
       "      <td>4</td>\n",
       "      <td>-6.0</td>\n",
       "      <td>36</td>\n",
       "      <td>2.3</td>\n",
       "      <td>2000</td>\n",
       "      <td>-18.6</td>\n",
       "      <td>0.0</td>\n",
       "      <td>0.0</td>\n",
       "      <td>0.0</td>\n",
       "      <td>Winter</td>\n",
       "      <td>2017</td>\n",
       "      <td>1</td>\n",
       "      <td>12</td>\n",
       "      <td>3</td>\n",
       "      <td>0</td>\n",
       "      <td>0</td>\n",
       "      <td>1</td>\n",
       "      <td>4.369448</td>\n",
       "    </tr>\n",
       "  </tbody>\n",
       "</table>\n",
       "</div>"
      ],
      "text/plain": [
       "         Date  Rented Bike Count  Hour  Temperature(°C)  Humidity(%)  \\\n",
       "0  2017-01-12                254     0             -5.2           37   \n",
       "1  2017-01-12                204     1             -5.5           38   \n",
       "2  2017-01-12                173     2             -6.0           39   \n",
       "3  2017-01-12                107     3             -6.2           40   \n",
       "4  2017-01-12                 78     4             -6.0           36   \n",
       "\n",
       "   Wind speed (m/s)  Visibility (10m)  Dew point temperature(°C)  \\\n",
       "0               2.2              2000                      -17.6   \n",
       "1               0.8              2000                      -17.6   \n",
       "2               1.0              2000                      -17.7   \n",
       "3               0.9              2000                      -17.6   \n",
       "4               2.3              2000                      -18.6   \n",
       "\n",
       "   Solar Radiation (MJ/m2)  Rainfall(mm)  Snowfall (cm) Seasons  Year  Month  \\\n",
       "0                      0.0           0.0            0.0  Winter  2017      1   \n",
       "1                      0.0           0.0            0.0  Winter  2017      1   \n",
       "2                      0.0           0.0            0.0  Winter  2017      1   \n",
       "3                      0.0           0.0            0.0  Winter  2017      1   \n",
       "4                      0.0           0.0            0.0  Winter  2017      1   \n",
       "\n",
       "   Day  DOW  isWeekend  isHoliday  isFunctioningDay  RentedBikes_Log  \n",
       "0   12    3          0          0                 1         5.541264  \n",
       "1   12    3          0          0                 1         5.323010  \n",
       "2   12    3          0          0                 1         5.159055  \n",
       "3   12    3          0          0                 1         4.682131  \n",
       "4   12    3          0          0                 1         4.369448  "
      ]
     },
     "execution_count": 3,
     "metadata": {},
     "output_type": "execute_result"
    }
   ],
   "source": [
    "df_bikes.head()"
   ]
  },
  {
   "cell_type": "markdown",
   "metadata": {},
   "source": [
    "#### Define X and Y"
   ]
  },
  {
   "cell_type": "code",
   "execution_count": 4,
   "metadata": {},
   "outputs": [],
   "source": [
    "# Define model variables\n",
    "y = df_bikes['RentedBikes_Log']\n",
    "df_train = df_bikes.drop(['RentedBikes_Log', 'Rented Bike Count', 'Date'], axis= 1).copy()"
   ]
  },
  {
   "cell_type": "markdown",
   "metadata": {},
   "source": [
    "#### Dummy encode categorical variable"
   ]
  },
  {
   "cell_type": "code",
   "execution_count": 5,
   "metadata": {},
   "outputs": [],
   "source": [
    "df_train = pd.get_dummies(df_train, columns=[\"Seasons\"])"
   ]
  },
  {
   "cell_type": "markdown",
   "metadata": {},
   "source": [
    "#### Scale features"
   ]
  },
  {
   "cell_type": "code",
   "execution_count": 6,
   "metadata": {},
   "outputs": [],
   "source": [
    "# create scaler object\n",
    "scaler = StandardScaler()\n",
    "X_scaled = scaler.fit_transform(df_train)"
   ]
  },
  {
   "cell_type": "code",
   "execution_count": 7,
   "metadata": {},
   "outputs": [
    {
     "data": {
      "text/plain": [
       "(8760, 20)"
      ]
     },
     "execution_count": 7,
     "metadata": {},
     "output_type": "execute_result"
    }
   ],
   "source": [
    "X_scaled.shape"
   ]
  },
  {
   "cell_type": "markdown",
   "metadata": {},
   "source": [
    "## Key features of the model training process:\n",
    " - __Cross Validation:__ Using 12-fold cross-validation\n",
    " - __Models:__ On each run of cross-validation I fit 7 models (ridge, svr, gradient boosting, random forest, xgboost, lightgbm regressors)\n",
    " - __Stacking:__ In addition, I trained a meta StackingCVRegressor optimized using xgboost\n",
    " - __Blending:__ All models trained will overfit the training data to varying degrees. Therefore, to make final predictions, I blended their predictions together to get more robust predictions."
   ]
  },
  {
   "cell_type": "markdown",
   "metadata": {},
   "source": [
    "## Setup cross validation and define error metrics"
   ]
  },
  {
   "cell_type": "code",
   "execution_count": 8,
   "metadata": {},
   "outputs": [],
   "source": [
    "# Setup cross validation folds\n",
    "kf = KFold(n_splits=12, random_state=42, shuffle=True)"
   ]
  },
  {
   "cell_type": "code",
   "execution_count": 9,
   "metadata": {},
   "outputs": [],
   "source": [
    "# Define error metrics\n",
    "def rmse(y, y_pred):\n",
    "    return np.sqrt(mean_squared_error(y, y_pred))\n",
    "\n",
    "def cv_rmse(model, X, y):\n",
    "    rmse = np.sqrt(-cross_val_score(model, X, y, scoring=\"neg_mean_squared_error\", cv=kf))\n",
    "    return (rmse)"
   ]
  },
  {
   "cell_type": "markdown",
   "metadata": {},
   "source": [
    "### Setup models"
   ]
  },
  {
   "cell_type": "code",
   "execution_count": 10,
   "metadata": {},
   "outputs": [
    {
     "name": "stdout",
     "output_type": "stream",
     "text": [
      "X_train : (7008, 20)\n",
      "X_test : (1752, 20)\n",
      "y_train : (7008,)\n",
      "y_test : (1752,)\n"
     ]
    }
   ],
   "source": [
    "# Partition the dataset in train + validation sets\n",
    "X_train, X_test, y_train, y_test = train_test_split(X_scaled, y, test_size=0.2, random_state=0)\n",
    "print('X_train : ' + str(X_train.shape))\n",
    "print('X_test : ' + str(X_test.shape))\n",
    "print('y_train : ' + str(y_train.shape))\n",
    "print('y_test : ' + str(y_test.shape))"
   ]
  },
  {
   "cell_type": "code",
   "execution_count": 11,
   "metadata": {},
   "outputs": [],
   "source": [
    "# Light Gradient Boosting Regressor\n",
    "# lightgbm = LGBMRegressor(objective='regression', \n",
    "#                        num_leaves=6,\n",
    "#                        learning_rate=0.01, \n",
    "#                        n_estimators=7000,\n",
    "#                        max_bin=200, \n",
    "#                        bagging_fraction=0.8,\n",
    "#                        bagging_freq=4, \n",
    "#                        bagging_seed=8,\n",
    "#                        feature_fraction=0.2,\n",
    "#                        feature_fraction_seed=8,\n",
    "#                        min_sum_hessian_in_leaf = 11,\n",
    "#                        verbose=-1,\n",
    "#                        random_state=42)"
   ]
  },
  {
   "cell_type": "code",
   "execution_count": 12,
   "metadata": {},
   "outputs": [],
   "source": [
    "# XGBoost Regressor\n",
    "xgboost = XGBRegressor(learning_rate=0.01,\n",
    "                       n_estimators=6000,\n",
    "                       max_depth=4,\n",
    "                       min_child_weight=0,\n",
    "                       gamma=0.6,\n",
    "                       subsample=0.7,\n",
    "                       colsample_bytree=0.7,\n",
    "                       objective='reg:linear',\n",
    "                       nthread=-1,\n",
    "                       scale_pos_weight=1,\n",
    "                       seed=27,\n",
    "                       reg_alpha=0.00006,\n",
    "                       random_state=42)"
   ]
  },
  {
   "cell_type": "code",
   "execution_count": 13,
   "metadata": {},
   "outputs": [],
   "source": [
    "# Ridge Regressor\n",
    "ridge_alphas = [0.1, 0.2, 0.3, 0.5, 0.7, 0.9, 1, 3, 5, 10, 12, 15, 18, 20, 25, 30, 50, 75, 100]\n",
    "ridge = make_pipeline(RobustScaler(), RidgeCV(alphas=ridge_alphas, cv=kf))"
   ]
  },
  {
   "cell_type": "code",
   "execution_count": 14,
   "metadata": {},
   "outputs": [],
   "source": [
    "cv_ridge = [cv_rmse(Ridge(alpha = alpha), X_train, y_train).mean() \n",
    "            for alpha in ridge_alphas]"
   ]
  },
  {
   "cell_type": "code",
   "execution_count": 15,
   "metadata": {},
   "outputs": [
    {
     "data": {
      "text/plain": [
       "Text(0, 0.5, 'rmse')"
      ]
     },
     "execution_count": 15,
     "metadata": {},
     "output_type": "execute_result"
    },
    {
     "data": {
      "image/png": "[encoded data removed]",
      "text/plain": [
       "<Figure size 432x288 with 1 Axes>"
      ]
     },
     "metadata": {
      "needs_background": "light"
     },
     "output_type": "display_data"
    }
   ],
   "source": [
    "cv_ridge = pd.Series(cv_ridge, index = ridge_alphas)\n",
    "cv_ridge.plot(title = \"Validation\")\n",
    "plt.xlabel(\"alpha\")\n",
    "plt.ylabel(\"rmse\")"
   ]
  },
  {
   "cell_type": "code",
   "execution_count": 16,
   "metadata": {},
   "outputs": [],
   "source": [
    "# Gradient Boosting Regressor\n",
    "gbr = GradientBoostingRegressor(n_estimators=6000,\n",
    "                                learning_rate=0.01,\n",
    "                                max_depth=4,\n",
    "                                max_features='sqrt',\n",
    "                                min_samples_leaf=15,\n",
    "                                min_samples_split=10,\n",
    "                                loss='huber',\n",
    "                                random_state=42)  "
   ]
  },
  {
   "cell_type": "code",
   "execution_count": 17,
   "metadata": {},
   "outputs": [],
   "source": [
    "# Random Forest Regressor\n",
    "rf = RandomForestRegressor(n_estimators=1200,\n",
    "                          max_depth=15,\n",
    "                          min_samples_split=5,\n",
    "                          min_samples_leaf=5,\n",
    "                          max_features=None,\n",
    "                          oob_score=True,\n",
    "                          random_state=42)"
   ]
  },
  {
   "cell_type": "code",
   "execution_count": 18,
   "metadata": {},
   "outputs": [],
   "source": [
    "# Stack up all the models above, optimized using xgboost\n",
    "stack_gen = StackingCVRegressor(regressors=(xgboost, ridge, gbr, rf),\n",
    "                                meta_regressor=xgboost,\n",
    "                                use_features_in_secondary=True)"
   ]
  },
  {
   "cell_type": "markdown",
   "metadata": {},
   "source": [
    "## Train models"
   ]
  },
  {
   "cell_type": "markdown",
   "metadata": {},
   "source": [
    "Get cross validation scores for each model"
   ]
  },
  {
   "cell_type": "code",
   "execution_count": 19,
   "metadata": {},
   "outputs": [
    {
     "name": "stdout",
     "output_type": "stream",
     "text": [
      "stack_gen\n",
      "[11:58:43] WARNING: C:/Users/Administrator/workspace/xgboost-win64_release_1.6.0/src/objective/regression_obj.cu:203: reg:linear is now deprecated in favor of reg:squarederror.\n",
      "[11:59:07] WARNING: C:/Users/Administrator/workspace/xgboost-win64_release_1.6.0/src/objective/regression_obj.cu:203: reg:linear is now deprecated in favor of reg:squarederror.\n",
      "[11:59:30] WARNING: C:/Users/Administrator/workspace/xgboost-win64_release_1.6.0/src/objective/regression_obj.cu:203: reg:linear is now deprecated in favor of reg:squarederror.\n",
      "[11:59:53] WARNING: C:/Users/Administrator/workspace/xgboost-win64_release_1.6.0/src/objective/regression_obj.cu:203: reg:linear is now deprecated in favor of reg:squarederror.\n",
      "[12:00:16] WARNING: C:/Users/Administrator/workspace/xgboost-win64_release_1.6.0/src/objective/regression_obj.cu:203: reg:linear is now deprecated in favor of reg:squarederror.\n",
      "[12:09:30] WARNING: C:/Users/Administrator/workspace/xgboost-win64_release_1.6.0/src/objective/regression_obj.cu:203: reg:linear is now deprecated in favor of reg:squarederror.\n",
      "[12:09:54] WARNING: C:/Users/Administrator/workspace/xgboost-win64_release_1.6.0/src/objective/regression_obj.cu:203: reg:linear is now deprecated in favor of reg:squarederror.\n",
      "Total runtime for stacked model:  0:12:41.641572\n",
      "xgboost\n",
      "[12:11:24] WARNING: C:/Users/Administrator/workspace/xgboost-win64_release_1.6.0/src/objective/regression_obj.cu:203: reg:linear is now deprecated in favor of reg:squarederror.\n",
      "Total runtime for XGBoost:  0:12:56.254480\n",
      "Ridge\n",
      "Total runtime for Ridge regressor:  0:12:56.938653\n",
      "RandomForest\n",
      "Total runtime for Random forest:  0:13:26.681170\n",
      "GradientBoosting\n",
      "Total runtime for gradient boosting:  0:14:14.488341\n",
      "Wall time: 14min 14s\n"
     ]
    }
   ],
   "source": [
    "%%time\n",
    "# Fit all models\n",
    "start_time = datetime.now()\n",
    "\n",
    "print('stack_gen')\n",
    "stack_model = stack_gen.fit(np.array(X_train), np.array(y_train))\n",
    "runtime = datetime.now() - start_time\n",
    "print('Total runtime for stacked model: ', runtime)\n",
    "\n",
    "print('xgboost')\n",
    "xgb_model = xgboost.fit(X_train, y_train)\n",
    "runtime = datetime.now() - start_time\n",
    "print('Total runtime for XGBoost: ', runtime)\n",
    "\n",
    "print('Ridge')\n",
    "ridge_model = ridge.fit(X_train, y_train)\n",
    "runtime = datetime.now() - start_time\n",
    "print('Total runtime for Ridge regressor: ', runtime)\n",
    "\n",
    "print('RandomForest')\n",
    "rf_model = rf.fit(X_train, y_train)\n",
    "runtime = datetime.now() - start_time\n",
    "print('Total runtime for Random forest: ', runtime)\n",
    "\n",
    "print('GradientBoosting')\n",
    "gbr_model = gbr.fit(X_train, y_train)\n",
    "runtime = datetime.now() - start_time\n",
    "print('Total runtime for gradient boosting: ', runtime)"
   ]
  },
  {
   "cell_type": "code",
   "execution_count": 21,
   "metadata": {},
   "outputs": [],
   "source": [
    "# save the models to disk\n",
    "stack_filename = 'C:\\\\Users\\\\Charne\\\\Documents\\\\greenhouse_rentals\\\\static\\\\stack_model_bikes.sav'\n",
    "pickle.dump(stack_model, open(stack_filename, 'wb'))\n",
    "\n",
    "xgb_filename = 'C:\\\\Users\\\\Charne\\\\Documents\\\\greenhouse_rentals\\\\static\\\\xgb_model_bikes.sav'\n",
    "pickle.dump(xgb_model, open(xgb_filename, 'wb'))\n",
    "\n",
    "ridge_filename = 'C:\\\\Users\\\\Charne\\\\Documents\\\\greenhouse_rentals\\\\static\\\\ridge_model_bikes.sav'\n",
    "pickle.dump(ridge_model, open(ridge_filename, 'wb'))\n",
    "\n",
    "rf_filename = 'C:\\\\Users\\\\Charne\\\\Documents\\\\greenhouse_rentals\\\\static\\\\rf_model_bikes.sav'\n",
    "pickle.dump(rf_model, open(rf_filename, 'wb'))\n",
    "\n",
    "gbr_filename = 'C:\\\\Users\\\\Charne\\\\Documents\\\\greenhouse_rentals\\\\static\\\\gbr_model_bikes.sav'\n",
    "pickle.dump(gbr_model, open(gbr_filename, 'wb'))\n",
    "\n",
    "# load the model from disk\n",
    "# loaded_model = pickle.load(open(filename, 'rb'))"
   ]
  },
  {
   "cell_type": "code",
   "execution_count": 22,
   "metadata": {},
   "outputs": [],
   "source": [
    "scores = {}\n",
    "y_train_invt = np.expm1(y_train)\n",
    "y_test_invt = np.expm1(y_test)"
   ]
  },
  {
   "cell_type": "code",
   "execution_count": 23,
   "metadata": {},
   "outputs": [
    {
     "name": "stdout",
     "output_type": "stream",
     "text": [
      "Training Measures\n",
      "MAE on training data: 79.53364252871008\n",
      "MSE on training data: 19372.692274369925\n",
      "RMSE on training data: 139.18581922872002\n",
      "R_squared on training data: 0.9830376392581336\n",
      "\n",
      "Testing Measures\n",
      "MAE on testing data: 104.90680826279991\n",
      "MSE on testing data: 33757.99805153356\n",
      "RMSE on testing data: 183.7334973583575\n",
      "R_squared on testing data: 0.947749249363443\n"
     ]
    }
   ],
   "source": [
    "# Stacked\n",
    "# Look at predictive accuracy on training and testing set\n",
    "stack_y_train_pred = stack_model.predict(X_train)\n",
    "stack_y_test_pred = stack_model.predict(X_test)\n",
    "stack_y_train_invt = np.expm1(stack_y_train_pred)\n",
    "stack_y_test_invt = np.expm1(stack_y_test_pred)\n",
    "\n",
    "score = math.sqrt(mean_squared_error(y_train_invt, stack_y_train_invt))\n",
    "\n",
    "print('Training Measures')\n",
    "print('MAE on training data:', mean_absolute_error(y_train_invt, stack_y_train_invt))\n",
    "print('MSE on training data:', mean_squared_error(y_train_invt, stack_y_train_invt))\n",
    "print('RMSE on training data:', score)\n",
    "print('R_squared on training data:', r2_score(y_train, stack_y_train_pred))\n",
    "print('\\nTesting Measures')\n",
    "print('MAE on testing data:', mean_absolute_error(y_test_invt, stack_y_test_invt))\n",
    "print('MSE on testing data:', mean_squared_error(y_test_invt, stack_y_test_invt))\n",
    "print('RMSE on testing data:', math.sqrt(mean_squared_error(y_test_invt, stack_y_test_invt)))\n",
    "print('R_squared on testing data:', r2_score(y_test, stack_y_test_pred))\n",
    "scores['stacked'] = (score, score)"
   ]
  },
  {
   "cell_type": "code",
   "execution_count": 24,
   "metadata": {},
   "outputs": [
    {
     "name": "stdout",
     "output_type": "stream",
     "text": [
      "Training Measures\n",
      "MSE on training data: 27175.076728723525\n",
      "RMSE on training data: 164.84864794326802\n",
      "R_squared on training data: 0.9768225625379854\n",
      "\n",
      "Testing Measures\n",
      "MSE on testing data: 39308.82087806596\n",
      "RMSE on training data: 198.26452248969295\n",
      "R_squared on testing data: 0.9466418455338796\n"
     ]
    }
   ],
   "source": [
    "# XGB\n",
    "# Look at predictive accuracy on training and testing set\n",
    "xgb_y_train_pred = xgb_model.predict(X_train)\n",
    "xgb_y_test_pred = xgb_model.predict(X_test)\n",
    "xgb_y_train_invt = np.expm1(xgb_y_train_pred)\n",
    "xgb_y_test_invt = np.expm1(xgb_y_test_pred)\n",
    "\n",
    "score = math.sqrt(mean_squared_error(y_train_invt, xgb_y_train_invt))\n",
    "\n",
    "print('Training Measures')\n",
    "print('MSE on training data:', mean_squared_error(y_train_invt, xgb_y_train_invt))\n",
    "print('RMSE on training data:', score)\n",
    "print('R_squared on training data:', r2_score(y_train, xgb_y_train_pred))\n",
    "print('\\nTesting Measures')\n",
    "print('MSE on testing data:', mean_squared_error(y_test_invt, xgb_y_test_invt))\n",
    "print('RMSE on training data:', math.sqrt(mean_squared_error(y_test_invt, xgb_y_test_invt)))\n",
    "print('R_squared on testing data:', r2_score(y_test, xgb_y_test_pred))\n",
    "scores['xgb'] = (score, score)"
   ]
  },
  {
   "cell_type": "code",
   "execution_count": 25,
   "metadata": {},
   "outputs": [
    {
     "name": "stdout",
     "output_type": "stream",
     "text": [
      "Training Measures\n",
      "MSE on training data: 212163.74546965456\n",
      "RMSE on training data: 460.6123592237344\n",
      "R_squared on training data: 0.7897027577543475\n",
      "\n",
      "Testing Measures\n",
      "MSE on testing data: 214163.53445012847\n",
      "RMSE on training data: 462.77806176409064\n",
      "R_squared on testing data: 0.8064693827135263\n"
     ]
    }
   ],
   "source": [
    "# Ridge\n",
    "# Look at predictive accuracy on training and testing set\n",
    "rr_y_train_pred = ridge_model.predict(X_train)\n",
    "rr_y_test_pred = ridge_model.predict(X_test)\n",
    "rr_y_train_invt = np.expm1(rr_y_train_pred)\n",
    "rr_y_test_invt = np.expm1(rr_y_test_pred)\n",
    "\n",
    "score = math.sqrt(mean_squared_error(y_train_invt, rr_y_train_invt))\n",
    "\n",
    "print('Training Measures')\n",
    "print('MSE on training data:', mean_squared_error(y_train_invt, rr_y_train_invt))\n",
    "print('RMSE on training data:', score)\n",
    "print('R_squared on training data:', r2_score(y_train, rr_y_train_pred))\n",
    "print('\\nTesting Measures')\n",
    "print('MSE on testing data:', mean_squared_error(y_test_invt, rr_y_test_invt))\n",
    "print('RMSE on training data:', math.sqrt(mean_squared_error(y_test_invt, rr_y_test_invt)))\n",
    "print('R_squared on testing data:', r2_score(y_test, rr_y_test_pred))\n",
    "scores['ridge'] = (score, score)"
   ]
  },
  {
   "cell_type": "code",
   "execution_count": 26,
   "metadata": {},
   "outputs": [
    {
     "name": "stdout",
     "output_type": "stream",
     "text": [
      "Training Measures\n",
      "MSE on training data: 26389.425644612194\n",
      "RMSE on training data: 162.4482245043392\n",
      "R_squared on training data: 0.9698511362343273\n",
      "\n",
      "Testing Measures\n",
      "MSE on testing data: 49340.310395569446\n",
      "RMSE on training data: 222.12678900927156\n",
      "R_squared on testing data: 0.8064693827135263\n"
     ]
    }
   ],
   "source": [
    "# Random Forest\n",
    "# Look at predictive accuracy on training and testing set\n",
    "rf_y_train_pred = rf_model.predict(X_train)\n",
    "rf_y_test_pred = rf_model.predict(X_test)\n",
    "rf_y_train_invt = np.expm1(rf_y_train_pred)\n",
    "rf_y_test_invt = np.expm1(rf_y_test_pred)\n",
    "\n",
    "score = math.sqrt(mean_squared_error(y_train_invt, rf_y_train_invt))\n",
    "\n",
    "print('Training Measures')\n",
    "print('MSE on training data:', mean_squared_error(y_train_invt, rf_y_train_invt))\n",
    "print('RMSE on training data:', score)\n",
    "print('R_squared on training data:', r2_score(y_train, rf_y_train_pred))\n",
    "print('\\nTesting Measures')\n",
    "print('MSE on testing data:', mean_squared_error(y_test_invt, rf_y_test_invt))\n",
    "print('RMSE on training data:', math.sqrt(mean_squared_error(y_test_invt, rf_y_test_invt)))\n",
    "print('R_squared on testing data:', r2_score(y_test, rr_y_test_pred))\n",
    "scores['rf'] = (score, score)"
   ]
  },
  {
   "cell_type": "code",
   "execution_count": 27,
   "metadata": {},
   "outputs": [
    {
     "name": "stdout",
     "output_type": "stream",
     "text": [
      "Training Measures\n",
      "MSE on training data: 25355.484748216248\n",
      "RMSE on training data: 159.23405649614108\n",
      "R_squared on training data: 0.9652930207511864\n",
      "\n",
      "Testing Measures\n",
      "MSE on testing data: 36327.60659103882\n",
      "RMSE on training data: 190.59802357589865\n",
      "R_squared on testing data: 0.9430264775605869\n"
     ]
    }
   ],
   "source": [
    "# Gradient boost\n",
    "# Look at predictive accuracy on training and testing set\n",
    "gb_y_train_pred = gbr_model.predict(X_train)\n",
    "gb_y_test_pred = gbr_model.predict(X_test)\n",
    "gb_y_train_invt = np.expm1(gb_y_train_pred)\n",
    "gb_y_test_invt = np.expm1(gb_y_test_pred)\n",
    "\n",
    "score = math.sqrt(mean_squared_error(y_train_invt, gb_y_train_invt))\n",
    "\n",
    "print('Training Measures')\n",
    "print('MSE on training data:', mean_squared_error(y_train_invt, gb_y_train_invt))\n",
    "print('RMSE on training data:', score)\n",
    "print('R_squared on training data:', r2_score(y_train, gb_y_train_pred))\n",
    "print('\\nTesting Measures')\n",
    "print('MSE on testing data:', mean_squared_error(y_test_invt, gb_y_test_invt))\n",
    "print('RMSE on training data:', math.sqrt(mean_squared_error(y_test_invt, gb_y_test_invt)))\n",
    "print('R_squared on testing data:', r2_score(y_test, gb_y_test_pred))\n",
    "scores['gb'] = (score, score)"
   ]
  },
  {
   "cell_type": "markdown",
   "metadata": {},
   "source": [
    "## Blending models"
   ]
  },
  {
   "cell_type": "code",
   "execution_count": 28,
   "metadata": {},
   "outputs": [],
   "source": [
    "# Blend models in order to make the final predictions more robust to overfitting\n",
    "def blended_predictions(X):\n",
    "    return ((0.1 * ridge_model.predict(X)) + \\\n",
    "            (0.3 * gbr_model.predict(X)) + \\\n",
    "            (0.2 * xgb_model.predict(X)) + \\\n",
    "            (0.1 * rf_model.predict(X)) + \\\n",
    "            (0.3 * stack_model.predict(np.array(X))))"
   ]
  },
  {
   "cell_type": "code",
   "execution_count": 29,
   "metadata": {},
   "outputs": [],
   "source": [
    "blended_pred = blended_predictions(X_train)\n",
    "blended_pred_invt = np.expm1(blended_pred)"
   ]
  },
  {
   "cell_type": "code",
   "execution_count": 30,
   "metadata": {},
   "outputs": [],
   "source": [
    "blended_pred_test = blended_predictions(X_test)\n",
    "blended_pred_test_invt = np.expm1(blended_pred_test)"
   ]
  },
  {
   "cell_type": "code",
   "execution_count": 31,
   "metadata": {},
   "outputs": [
    {
     "name": "stdout",
     "output_type": "stream",
     "text": [
      "Training Measures\n",
      "MSE on training data: 27780.13160489837\n",
      "RMSE on training data: 166.67372799844122\n",
      "R_squared on training data: 0.9745060414105838\n",
      "\n",
      "Testing Measures\n",
      "MSE on testing data: 40670.17479064389\n",
      "RMSE on training data: 201.66847743423833\n",
      "R_squared on testing data: 0.9463196113818657\n"
     ]
    }
   ],
   "source": [
    "# Get final precitions from the blended model\n",
    "blended_score = math.sqrt(mean_squared_error(y_train_invt, blended_pred_invt))\n",
    "scores['blended'] = (blended_score, 0)\n",
    "print('Training Measures')\n",
    "print('MSE on training data:', mean_squared_error(y_train_invt, blended_pred_invt))\n",
    "print('RMSE on training data:', math.sqrt(mean_squared_error(y_train_invt, blended_pred_invt)))\n",
    "print('R_squared on training data:', r2_score(y_train, blended_pred))\n",
    "print('\\nTesting Measures')\n",
    "print('MSE on testing data:', mean_squared_error(y_test_invt, blended_pred_test_invt))\n",
    "print('RMSE on training data:', math.sqrt(mean_squared_error(y_test_invt, blended_pred_test_invt)))\n",
    "print('R_squared on testing data:', r2_score(y_test, blended_pred_test))\n",
    "scores['blended'] = (blended_score, 0)"
   ]
  },
  {
   "cell_type": "code",
   "execution_count": 32,
   "metadata": {},
   "outputs": [
    {
     "data": {
      "image/png": "[encoded data removed]",
      "text/plain": [
       "<Figure size 1728x864 with 1 Axes>"
      ]
     },
     "metadata": {},
     "output_type": "display_data"
    }
   ],
   "source": [
    "# Plot the predictions for each model\n",
    "sns.set_style(\"white\")\n",
    "fig = plt.figure(figsize=(24, 12))\n",
    "\n",
    "ax = sns.pointplot(x=list(scores.keys()), y=[score for score, _ in scores.values()], markers=['o'], linestyles=['-'])\n",
    "for i, score in enumerate(scores.values()):\n",
    "    ax.text(i, score[0] + 0.002, '{:.6f}'.format(score[0]), horizontalalignment='left', size='large', color='black', weight='semibold')\n",
    "\n",
    "plt.ylabel('Score (RMSE)', size=20, labelpad=12.5)\n",
    "plt.xlabel('Model', size=20, labelpad=12.5)\n",
    "plt.tick_params(axis='x', labelsize=13.5)\n",
    "plt.tick_params(axis='y', labelsize=12.5)\n",
    "\n",
    "plt.title('Scores of Models', size=20)\n",
    "\n",
    "plt.show()"
   ]
  },
  {
   "cell_type": "code",
   "execution_count": 34,
   "metadata": {},
   "outputs": [
    {
     "data": {
      "image/png": "[encoded data removed]",
      "text/plain": [
       "<Figure size 432x288 with 1 Axes>"
      ]
     },
     "metadata": {},
     "output_type": "display_data"
    }
   ],
   "source": [
    "# Plot predictions\n",
    "plt.scatter(blended_pred_invt, y_train_invt, c = \"blue\", marker = \"s\", label = \"Training data\")\n",
    "plt.scatter(blended_pred_test_invt, y_test_invt, c = \"lightgreen\", marker = \"s\", label = \"Validation data\")\n",
    "plt.title(\"Linear regression\")\n",
    "plt.xlabel(\"Predicted values\")\n",
    "plt.ylabel(\"Real values\")\n",
    "plt.legend(loc = \"upper left\")\n",
    "plt.plot([10.5, 13.5], [10.5, 13.5], c = \"red\")\n",
    "plt.show()"
   ]
  },
  {
   "cell_type": "code",
   "execution_count": null,
   "metadata": {},
   "outputs": [],
   "source": []
  }
 ],
 "metadata": {
  "kernelspec": {
   "display_name": "Python 3",
   "language": "python",
   "name": "python3"
  },
  "language_info": {
   "codemirror_mode": {
    "name": "ipython",
    "version": 3
   },
   "file_extension": ".py",
   "mimetype": "text/x-python",
   "name": "python",
   "nbconvert_exporter": "python",
   "pygments_lexer": "ipython3",
   "version": "3.8.5"
  }
 },
 "nbformat": 4,
 "nbformat_minor": 4
}
